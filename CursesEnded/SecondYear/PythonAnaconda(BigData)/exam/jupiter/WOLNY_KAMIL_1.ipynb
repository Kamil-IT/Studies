{
 "cells": [
  {
   "cell_type": "code",
   "execution_count": null,
   "id": "6cc06363-861c-422c-bdc3-026a7ee0b873",
   "metadata": {},
   "outputs": [],
   "source": []
  },
  {
   "cell_type": "code",
   "execution_count": 4,
   "id": "d1e2b498-b884-4b9c-8dc8-3d78074ea8d5",
   "metadata": {},
   "outputs": [
    {
     "name": "stdout",
     "output_type": "stream",
     "text": [
      "Dane treningowe\n"
     ]
    },
    {
     "data": {
      "image/png": "[encoded data removed]",
      "text/plain": [
       "<Figure size 432x288 with 1 Axes>"
      ]
     },
     "metadata": {
      "needs_background": "light"
     },
     "output_type": "display_data"
    },
    {
     "name": "stdout",
     "output_type": "stream",
     "text": [
      "Dane testowe\n"
     ]
    },
    {
     "data": {
      "image/png": "[encoded data removed]",
      "text/plain": [
       "<Figure size 432x288 with 1 Axes>"
      ]
     },
     "metadata": {
      "needs_background": "light"
     },
     "output_type": "display_data"
    },
    {
     "name": "stdout",
     "output_type": "stream",
     "text": [
      "Bazowałem na klasyfikatorze SVC\n",
      "Dokładność 0.85\n",
      "precyzja 0.8461538461538461\n",
      "specyficznosc 0.8787878787878788\n"
     ]
    },
    {
     "data": {
      "image/png": "[encoded data removed]",
      "text/plain": [
       "<Figure size 432x288 with 1 Axes>"
      ]
     },
     "metadata": {
      "needs_background": "light"
     },
     "output_type": "display_data"
    }
   ],
   "source": [
    "from matplotlib import pyplot as plt\n",
    "from numpy import random\n",
    "from sklearn.model_selection import train_test_split\n",
    "from sklearn.svm import SVC\n",
    "\n",
    "\n",
    "def generate_data(quantity, cech_quantity, class_quantity):\n",
    "    result_to_learn = []\n",
    "    class_to_learn = []\n",
    "\n",
    "    for j in range(class_quantity):\n",
    "        for i in range(quantity // class_quantity):\n",
    "            row = random.rand(cech_quantity) + j - 0.5 * j\n",
    "            result_to_learn.append(row)\n",
    "            class_to_learn.append(j)\n",
    "    return result_to_learn, class_to_learn\n",
    "\n",
    "\n",
    "def generate_data_to_plot_data(generate_data, generated_class):\n",
    "    result = [[] for i in set(generated_class)]\n",
    "    for i in range(len(generate_data)):\n",
    "        result[generated_class[i]].append(generate_data[i])\n",
    "    return result\n",
    "\n",
    "\n",
    "def plot_generated_data(generate_data, generated_class):\n",
    "    colors = ['r+', 'b+', 'm+', 'y+', 'c+', 'g+']\n",
    "    unique_class = set(generated_class)\n",
    "    colors = [colors[i] for i in range(len(unique_class))]\n",
    "    data_to_plot = generate_data_to_plot_data(generate_data, generated_class)\n",
    "    if len(generate_data[0]) == 2:\n",
    "        fig = plt.figure()\n",
    "        fig.add_subplot(111)\n",
    "\n",
    "        def plot_figure(data, color, label):\n",
    "            plt.plot([i[0] for i in data], [i[1] for i in data], color, label=label)\n",
    "\n",
    "        for i in range(len(colors)):\n",
    "            plot_figure(data_to_plot[i], colors[i], f'class {i}')\n",
    "\n",
    "        plt.legend()\n",
    "        plt.show()\n",
    "    else:\n",
    "        fig = plt.figure()\n",
    "        fig.add_subplot(111, projection='3d')\n",
    "\n",
    "        def plot_figure(data, color, label):\n",
    "            plt.plot([i[0] for i in data], [i[1] for i in data], [i[2] for i in data], color, label=label)\n",
    "\n",
    "        for i in range(len(colors)):\n",
    "            plot_figure(data_to_plot[i], colors[i], f'class {i}')\n",
    "\n",
    "        plt.legend()\n",
    "        plt.show(block=False)\n",
    "\n",
    "\n",
    "def tp(prediction, classes):\n",
    "    score = 0\n",
    "    for i in range(len(prediction)):\n",
    "        if prediction[i] == 1 and classes[i] == 1:\n",
    "            score += 1\n",
    "    return score\n",
    "\n",
    "\n",
    "def fp(prediction, classes):\n",
    "    score = 0\n",
    "    for i in range(len(prediction)):\n",
    "        if prediction[i] == 1 and classes[i] == 0:\n",
    "            score += 1\n",
    "    return score\n",
    "\n",
    "\n",
    "def fn(prediction, classes):\n",
    "    score = 0\n",
    "    for i in range(len(prediction)):\n",
    "        if prediction[i] == 0 and classes[i] == 1:\n",
    "            score += 1\n",
    "    return score\n",
    "\n",
    "\n",
    "def tn(prediction, classes):\n",
    "    score = 0\n",
    "    for i in range(len(prediction)):\n",
    "        if prediction[i] == 0 and classes[i] == 0:\n",
    "            score += 1\n",
    "    return score\n",
    "\n",
    "\n",
    "data, classes = generate_data(200, 2, 2)\n",
    "\n",
    "train_data, test_data, train_class, test_class = train_test_split(data, classes, test_size=0.3)\n",
    "\n",
    "print(\"Dane treningowe\")\n",
    "plot_generated_data(train_data, train_class)\n",
    "print(\"Dane testowe\")\n",
    "plot_generated_data(test_data, test_class)\n",
    "\n",
    "clf = SVC()\n",
    "clf.fit(train_data, train_class)\n",
    "\n",
    "# Prediction\n",
    "predicted = clf.predict(test_data)\n",
    "\n",
    "tn_val = tn(predicted, test_class)\n",
    "tp_val = tp(predicted, test_class)\n",
    "fp_val = fp(predicted, test_class)\n",
    "fn_val = fn(predicted, test_class)\n",
    "\n",
    "dokladnosc = (tp_val + tn_val) / (tp_val + tn_val + fp_val + fn_val)\n",
    "precyzja = tp_val / (tp_val + fp_val)\n",
    "specyficznosc = tn_val / (tn_val + fp_val)\n",
    "\n",
    "print(\"Bazowałem na klasyfikatorze SVC\")\n",
    "print(\"Dokładność \" + str(dokladnosc))\n",
    "print(\"precyzja \" + str(precyzja))\n",
    "print(\"specyficznosc \" + str(specyficznosc))\n",
    "\n",
    "fig = plt.figure()\n",
    "fig.add_subplot(111)\n",
    "plt.bar(['Dokładność', 'precyzja', 'specyficznosc'], [dokladnosc, precyzja, specyficznosc])\n",
    "plt.show()"
   ]
  },
  {
   "cell_type": "code",
   "execution_count": null,
   "id": "c41d3884-99aa-4e17-ad8e-fa4dcf2d9894",
   "metadata": {},
   "outputs": [],
   "source": []
  }
 ],
 "metadata": {
  "kernelspec": {
   "display_name": "Python 3",
   "language": "python",
   "name": "python3"
  },
  "language_info": {
   "codemirror_mode": {
    "name": "ipython",
    "version": 3
   },
   "file_extension": ".py",
   "mimetype": "text/x-python",
   "name": "python",
   "nbconvert_exporter": "python",
   "pygments_lexer": "ipython3",
   "version": "3.8.5"
  }
 },
 "nbformat": 4,
 "nbformat_minor": 5
}
