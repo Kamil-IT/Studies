{
 "cells": [
  {
   "cell_type": "code",
   "execution_count": 10,
   "metadata": {
    "colab": {
     "base_uri": "https://localhost:8080/",
     "height": 513
    },
    "id": "hpQuGuEjebC9",
    "outputId": "3fb21c46-e0f1-421e-8e58-5ebbdcc6f210"
   },
   "outputs": [
    {
     "data": {
      "image/png": "[encoded data removed]",
      "text/plain": [
       "<Figure size 432x288 with 1 Axes>"
      ]
     },
     "metadata": {
      "needs_background": "light"
     },
     "output_type": "display_data"
    },
    {
     "data": {
      "image/png": "[encoded data removed]",
      "text/plain": [
       "<Figure size 432x288 with 1 Axes>"
      ]
     },
     "metadata": {
      "needs_background": "light"
     },
     "output_type": "display_data"
    }
   ],
   "source": [
    "import numpy as np\n",
    "from matplotlib import pyplot as plt\n",
    "from numpy import random\n",
    "from sklearn.model_selection import train_test_split\n",
    "from sklearn.svm import SVC\n",
    "\n",
    "\n",
    "def generate_data(quantity, cech_quantity, class_quantity):\n",
    "    result_to_learn = []\n",
    "    class_to_learn = []\n",
    "\n",
    "    for j in range(class_quantity):\n",
    "        for i in range(quantity // class_quantity):\n",
    "            row = random.rand(cech_quantity) + j - 0.5 * j\n",
    "            result_to_learn.append(row)\n",
    "            class_to_learn.append(j)\n",
    "    return result_to_learn, class_to_learn\n",
    "\n",
    "\n",
    "def generate_data_to_plot_data(generate_data, generated_class):\n",
    "    result = [[] for i in set(generated_class)]\n",
    "    for i in range(len(generate_data)):\n",
    "        result[generated_class[i]].append(generate_data[i])\n",
    "    return result\n",
    "\n",
    "\n",
    "def plot_generated_data(generate_data, generated_class):\n",
    "    colors = ['r+', 'b+', 'm+', 'y+', 'c+', 'g+']\n",
    "    unique_class = set(generated_class)\n",
    "    colors = [colors[i] for i in range(len(unique_class))]\n",
    "    data_to_plot = generate_data_to_plot_data(generate_data, generated_class)\n",
    "    if len(generate_data[0]) == 2:\n",
    "        fig = plt.figure()\n",
    "        fig.add_subplot(111)\n",
    "\n",
    "        def plot_figure(data, color, label):\n",
    "            plt.plot([i[0] for i in data], [i[1] for i in data], color, label=label)\n",
    "\n",
    "        for i in range(len(colors)):\n",
    "            plot_figure(data_to_plot[i], colors[i], f'class {i}')\n",
    "\n",
    "        plt.legend()\n",
    "        plt.show()\n",
    "    else:\n",
    "        fig = plt.figure()\n",
    "        fig.add_subplot(111, projection='3d')\n",
    "\n",
    "        def plot_figure(data, color, label):\n",
    "            plt.plot([i[0] for i in data], [i[1] for i in data], [i[2] for i in data], color, label=label)\n",
    "\n",
    "        for i in range(len(colors)):\n",
    "            plot_figure(data_to_plot[i], colors[i], f'class {i}')\n",
    "\n",
    "        plt.legend()\n",
    "        plt.show(block=False)\n",
    "\n",
    "\n",
    "data, classes = generate_data(200, 2, 2)\n",
    "\n",
    "train_data, test_data, train_class, test_class = train_test_split(data, classes, test_size=0.3)\n",
    "\n",
    "plot_generated_data(train_data, train_class)\n",
    "plot_generated_data(test_data, test_class)\n",
    "\n",
    "clf = SVC()\n",
    "clf.fit(train_data, train_class)\n",
    "\n",
    "# Prediction\n",
    "predicted = clf.predict(test_data)\n",
    "\n",
    "\n"
   ]
  },
  {
   "cell_type": "code",
   "execution_count": 11,
   "metadata": {
    "id": "UXV8jIEqeUpo"
   },
   "outputs": [],
   "source": [
    "data, classes = generate_data(200, 1, 2)\n",
    "def abs(row):\n",
    "    if row >= 0:\n",
    "        return row\n",
    "    else:\n",
    "        return -1 * row\n",
    "\n",
    "def dist(val, cand):\n",
    "  return abs(val-cand)\n",
    "def select_best_cand(val, cands):\n",
    "  best = 0\n",
    "  best_dist = np.inf\n",
    "  for i in range(len(cands)):\n",
    "    el = cands[i]\n",
    "    c_dist = dist(val,el)\n",
    "    if c_dist < best_dist:\n",
    "      best = i\n",
    "      best_dist = c_dist\n",
    "  return best\n",
    "\n",
    "def gen_candidates(z,L,K):\n",
    "  return [sum([z[j] for j in range(K[l])])/K[l] for l in range(L)]\n",
    "\n",
    "def classify(new_z,L,data_x,data_y):\n",
    "  K = {}\n",
    "  for i in range(L):\n",
    "    K[i] = sum([1 for el in data_y if el == i])\n",
    "  return select_best_cand(new_z,gen_candidates(data_x,L,K))\n"
   ]
  },
  {
   "cell_type": "code",
   "execution_count": 12,
   "metadata": {
    "colab": {
     "base_uri": "https://localhost:8080/"
    },
    "id": "bQsOju6q_4M-",
    "outputId": "3bfdaceb-9b03-400f-b148-78419f6506bc"
   },
   "outputs": [
    {
     "name": "stdout",
     "output_type": "stream",
     "text": [
      "[array([0.18842969]), array([0.55690757]), array([0.29620854]), array([0.33955507]), array([0.00582819]), array([0.34498127]), array([0.82210398]), array([0.17449113]), array([0.50001112]), array([0.98884916]), array([0.6986322]), array([0.92577216]), array([0.46530375]), array([0.97584756]), array([0.89791055]), array([0.85176438]), array([0.28620053]), array([0.80023328]), array([0.75709303]), array([0.06200894]), array([0.83409285]), array([0.67754466]), array([0.98121629]), array([0.41296528]), array([0.39753663]), array([0.22029931]), array([0.51431244]), array([0.22170911]), array([0.56417118]), array([0.39950746]), array([0.26986327]), array([0.56706964]), array([0.02738516]), array([0.92159838]), array([0.32886109]), array([0.80862234]), array([0.6455115]), array([0.87337005]), array([0.32204405]), array([0.30063533]), array([0.98692679]), array([0.68993979]), array([0.74983403]), array([0.46737776]), array([0.64638707]), array([0.32128684]), array([0.11478135]), array([0.6006605]), array([0.39532026]), array([0.81618786]), array([0.3806912]), array([0.1867816]), array([0.941374]), array([0.13682717]), array([0.46540071]), array([0.79008548]), array([0.18377226]), array([0.90048562]), array([0.99473147]), array([0.8960581]), array([0.63051273]), array([0.23905293]), array([0.69213876]), array([0.08779731]), array([0.72506079]), array([0.34935779]), array([0.46754814]), array([0.28957348]), array([0.96957381]), array([0.74318496]), array([0.36395468]), array([0.97825275]), array([0.0148846]), array([0.89418183]), array([0.69765411]), array([0.01818076]), array([0.97554718]), array([0.92510768]), array([0.06671066]), array([0.50226866]), array([0.87857731]), array([0.16859113]), array([0.54812997]), array([0.18280781]), array([0.37620225]), array([0.82584305]), array([0.27862289]), array([0.99930194]), array([0.80842343]), array([0.02611076]), array([0.78728167]), array([0.11320393]), array([0.11700387]), array([0.61394586]), array([0.88238853]), array([0.15144958]), array([0.28408193]), array([0.87243464]), array([0.44260428]), array([0.03766956])]\n"
     ]
    }
   ],
   "source": [
    "classes0 = [el for el in classes if el==0]\n",
    "data0 = [data[i] for i in range(len(classes)) if classes[i] == 0]\n",
    "classes1 = [0 for el in classes if el==1]\n",
    "data1 = [data[i] for i in range(len(classes)) if classes[i] == 1]\n",
    "print(data0)\n"
   ]
  },
  {
   "cell_type": "code",
   "execution_count": 13,
   "metadata": {
    "colab": {
     "base_uri": "https://localhost:8080/",
     "height": 282
    },
    "id": "J9u1etq0_F6W",
    "outputId": "ee9d09ad-cc38-41a1-932e-e724a8be2708"
   },
   "outputs": [
    {
     "data": {
      "text/plain": [
       "<matplotlib.collections.PathCollection at 0x7f54e6518fd0>"
      ]
     },
     "execution_count": 13,
     "metadata": {},
     "output_type": "execute_result"
    },
    {
     "data": {
      "image/png": "[encoded data removed]",
      "text/plain": [
       "<Figure size 432x288 with 1 Axes>"
      ]
     },
     "metadata": {
      "needs_background": "light"
     },
     "output_type": "display_data"
    }
   ],
   "source": [
    "\n",
    "plt.scatter(data0,classes0)\n",
    "plt.scatter(data1,classes1)"
   ]
  },
  {
   "cell_type": "code",
   "execution_count": 17,
   "metadata": {
    "colab": {
     "base_uri": "https://localhost:8080/"
    },
    "id": "FRUa8WjLBlMX",
    "outputId": "23e98729-ae05-4e53-8067-889f4e011a19"
   },
   "outputs": [
    {
     "data": {
      "text/plain": [
       "'skutecznosc liczba_dobrze_zakfalikowanych/ilosc_elementow : 0.5'"
      ]
     },
     "execution_count": 17,
     "metadata": {},
     "output_type": "execute_result"
    }
   ],
   "source": [
    "classify(0.67,2,data,classes)\n",
    "\n",
    "\n",
    "predicted_class = []\n",
    "for i in range(len(data)):\n",
    "    predicted_class.append(classify(data[i], classes[i], data, classes))\n",
    "    \n",
    "success = 0\n",
    "for i in range(len(predicted_class)):\n",
    "    if predicted_class[i] == classes[i]:\n",
    "        success += 1\n",
    "        \n",
    "message = \"skutecznosc liczba_dobrze_zakfalikowanych/ilosc_elementow : \" + str(success / len(predicted_class))\n",
    "message"
   ]
  },
  {
   "cell_type": "code",
   "execution_count": null,
   "metadata": {},
   "outputs": [],
   "source": []
  },
  {
   "cell_type": "code",
   "execution_count": null,
   "metadata": {},
   "outputs": [],
   "source": []
  }
 ],
 "metadata": {
  "colab": {
   "name": "Kolokwium 2.ipynb",
   "provenance": []
  },
  "kernelspec": {
   "display_name": "Python 3",
   "language": "python",
   "name": "python3"
  },
  "language_info": {
   "codemirror_mode": {
    "name": "ipython",
    "version": 3
   },
   "file_extension": ".py",
   "mimetype": "text/x-python",
   "name": "python",
   "nbconvert_exporter": "python",
   "pygments_lexer": "ipython3",
   "version": "3.8.5"
  }
 },
 "nbformat": 4,
 "nbformat_minor": 4
}
