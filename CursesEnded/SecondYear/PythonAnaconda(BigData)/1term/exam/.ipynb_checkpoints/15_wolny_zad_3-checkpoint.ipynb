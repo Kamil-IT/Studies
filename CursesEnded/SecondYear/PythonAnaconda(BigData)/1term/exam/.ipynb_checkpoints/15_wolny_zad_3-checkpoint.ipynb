{
 "cells": [
  {
   "cell_type": "code",
   "execution_count": null,
   "id": "320370cf-7edd-46aa-af5f-1e11cdcea56d",
   "metadata": {},
   "outputs": [],
   "source": [
    "import numpy as np\n",
    "from matplotlib import pyplot as plt\n",
    "\n",
    "N = 100\n",
    "x = np.linspace(0, 1 / 8, N)\n",
    "y = 3 * x * np.sin(x)\n",
    "\n",
    "# a\n",
    "tkeo = []\n",
    "for i in range(1, N - 1):\n",
    "    tkeo.append(y[i] ** 2 - y[i + 1] * y[i - 1])\n",
    "\n",
    "print(tkeo)\n",
    "\n",
    "# b\n",
    "s = 0\n",
    "\n",
    "sum_mian = 0\n",
    "for e in range(N):\n",
    "    sum_mian += (y[e] - sum(y) / len(y)) ** 3\n",
    "mianownik = 1/N * sum_mian\n",
    "\n",
    "sum_licz = 1/N\n",
    "for e in range(N):\n",
    "    sum_licz += (y[e] - sum(y) / len(y))\n",
    "\n",
    "\n",
    "s = 1/(N-1) * sum_licz ** (3/2)\n",
    "print(s)\n",
    "\n",
    "# c\n"
   ]
  }
 ],
 "metadata": {
  "kernelspec": {
   "display_name": "Python 3",
   "language": "python",
   "name": "python3"
  },
  "language_info": {
   "codemirror_mode": {
    "name": "ipython",
    "version": 3
   },
   "file_extension": ".py",
   "mimetype": "text/x-python",
   "name": "python",
   "nbconvert_exporter": "python",
   "pygments_lexer": "ipython3",
   "version": "3.8.5"
  }
 },
 "nbformat": 4,
 "nbformat_minor": 5
}
