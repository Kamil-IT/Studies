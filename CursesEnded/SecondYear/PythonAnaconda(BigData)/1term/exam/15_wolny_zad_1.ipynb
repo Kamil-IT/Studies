{
 "cells": [
  {
   "cell_type": "code",
   "execution_count": 3,
   "id": "40d1a72b-82a7-4fc1-af29-70a8580cf49b",
   "metadata": {},
   "outputs": [
    {
     "name": "stdout",
     "output_type": "stream",
     "text": [
      "Warning: Maximum number of function evaluations has been exceeded.\n",
      "Optimization terminated successfully.\n",
      "         Current function value: 4.250130\n",
      "         Iterations: 56\n",
      "         Function evaluations: 106\n"
     ]
    },
    {
     "data": {
      "image/png": "[encoded data removed]",
      "text/plain": [
       "<Figure size 432x288 with 4 Axes>"
      ]
     },
     "metadata": {
      "needs_background": "light"
     },
     "output_type": "display_data"
    }
   ],
   "source": [
    "import matplotlib.pyplot as plt\n",
    "import numpy as np\n",
    "import scipy.optimize as opt\n",
    "\n",
    "N = 15\n",
    "x = np.linspace(0, 10, N)\n",
    "y = 1 / (1 + np.e ** (-x))\n",
    "y_noised = 1 / (1 + np.e ** (-x)) + 0.5 * np.random.randn(len(x))\n",
    "\n",
    "\n",
    "def model(params, x):\n",
    "    a, b = params\n",
    "    return 1 / (1 + np.e ** (-x * a)) + b\n",
    "\n",
    "\n",
    "def l1_fit(x0, x, y):\n",
    "    y_pred = model(x0, x)\n",
    "    return np.sum(np.abs(y - y_pred))\n",
    "\n",
    "\n",
    "def l2_fit(x0, x, y):\n",
    "    y_pred = model(x0, x)\n",
    "    return np.sum(np.abs((y - y_pred) ** 2))\n",
    "\n",
    "\n",
    "xopt1 = opt.fmin(func=l1_fit, x0=[1, 1], args=(x, y_noised))\n",
    "xopt2 = opt.fmin(func=l2_fit, x0=[1, 1], args=(x, y_noised))\n",
    "\n",
    "y_est1 = xopt1[1] + 1 / (1 + np.e ** (-x * xopt1[0]))\n",
    "y_est2 = xopt2[1] + 1 / (1 + np.e ** (-x * xopt2[0]))\n",
    "\n",
    "\n",
    "plt.subplot(411)\n",
    "plt.plot(x, y_est1, 'y-')\n",
    "\n",
    "plt.subplot(412)\n",
    "plt.plot(x, y_est2, 'b-')\n",
    "\n",
    "plt.subplot(413)\n",
    "plt.plot(x, y_noised, 'g-')\n",
    "\n",
    "plt.subplot(414)\n",
    "plt.plot(x, y, 'g-')\n",
    "plt.show()"
   ]
  },
  {
   "cell_type": "code",
   "execution_count": null,
   "id": "62b9f12e-6fe1-4deb-b7d5-5428a58216ab",
   "metadata": {},
   "outputs": [],
   "source": []
  },
  {
   "cell_type": "code",
   "execution_count": null,
   "id": "df76d3a5-20f1-4368-ba98-a7fb6170075c",
   "metadata": {},
   "outputs": [],
   "source": []
  }
 ],
 "metadata": {
  "kernelspec": {
   "display_name": "Python 3",
   "language": "python",
   "name": "python3"
  },
  "language_info": {
   "codemirror_mode": {
    "name": "ipython",
    "version": 3
   },
   "file_extension": ".py",
   "mimetype": "text/x-python",
   "name": "python",
   "nbconvert_exporter": "python",
   "pygments_lexer": "ipython3",
   "version": "3.8.5"
  }
 },
 "nbformat": 4,
 "nbformat_minor": 5
}
