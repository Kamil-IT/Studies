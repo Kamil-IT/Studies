{
 "cells": [
  {
   "cell_type": "code",
   "execution_count": 37,
   "metadata": {},
   "outputs": [],
   "source": [
    "import pandas as pd\n",
    "import numpy as np\n",
    "import matplotlib.pyplot as plt\n",
    "from datetime import datetime\n",
    "from scipy import stats"
   ]
  },
  {
   "cell_type": "code",
   "execution_count": 147,
   "metadata": {},
   "outputs": [],
   "source": [
    "data = pd.Series([10,12,16,17,40,18,37,28,19,50,38,60,37,94,62,4,18,39,95,82])"
   ]
  },
  {
   "cell_type": "code",
   "execution_count": 152,
   "metadata": {},
   "outputs": [],
   "source": [
    "def oknoPrzesuwne(w, p):\n",
    "    procent = w * p\n",
    "    cechyGrupy = []\n",
    "    minGrupy = []\n",
    "    \n",
    "    index = 0\n",
    "    cechy = []\n",
    "    for x in range(len(data)):\n",
    "        try:\n",
    "            cechy.append(data[index - procent])\n",
    "        except KeyError:\n",
    "            cechy.append(None)\n",
    "        if len(cechy) >= w:\n",
    "            cechyGrupy.append(cechy)\n",
    "            minGrupy.append(min([elem for elem in cechy if elem not in [None]]))\n",
    "            cechy = []\n",
    "            if procent > 0:\n",
    "                for y in range(int(procent)):\n",
    "                    try:\n",
    "                        cechy.append(cechyGrupy[-1][-1 - y])\n",
    "                    except KeyError:\n",
    "                        cechy.append(None)\n",
    "                        \n",
    "        index += 1\n",
    "    \n",
    "    for elem in range(int(procent)):\n",
    "        cechy.append(data[::-1][elem])\n",
    "            \n",
    "    if len(cechy) > 0:\n",
    "        while len(cechy) < 4:\n",
    "            cechy.append(None)\n",
    "        cechyGrupy.append(cechy)\n",
    "        minGrupy.append(min([elem for elem in cechy if elem not in [None]]))\n",
    "        cechy = []\n",
    "        \n",
    "    return cechyGrupy, minGrupy\n"
   ]
  },
  {
   "cell_type": "code",
   "execution_count": 154,
   "metadata": {},
   "outputs": [
    {
     "data": {
      "text/plain": [
       "([[None, None, 10, 12],\n",
       "  [12, 10, 16, 17],\n",
       "  [17, 16, 40, 18],\n",
       "  [18, 40, 37, 28],\n",
       "  [28, 37, 19, 50],\n",
       "  [50, 19, 38, 60],\n",
       "  [60, 38, 37, 94],\n",
       "  [94, 37, 62, 4],\n",
       "  [4, 62, 18, 39],\n",
       "  [39, 18, 10, 12]],\n",
       " [10, 10, 16, 18, 19, 19, 37, 4, 4, 10])"
      ]
     },
     "execution_count": 154,
     "metadata": {},
     "output_type": "execute_result"
    }
   ],
   "source": [
    "w = 4  # szerokosc okna przesuwnego\n",
    "p = 0.5  # procent pokrycia\n",
    "\n",
    "assert p < 1, \"Wartosc nie moze byc wieksza niz 1\"\n",
    "\n",
    "oknoPrzesuwne(w, p)"
   ]
  },
  {
   "cell_type": "code",
   "execution_count": 137,
   "metadata": {
    "scrolled": true
   },
   "outputs": [
    {
     "data": {
      "text/plain": [
       "0     10.0\n",
       "1     10.0\n",
       "2     10.0\n",
       "3     10.0\n",
       "4     12.0\n",
       "5     12.0\n",
       "6     12.0\n",
       "7     16.0\n",
       "8     16.0\n",
       "9     19.0\n",
       "10    19.0\n",
       "11    19.0\n",
       "12    37.0\n",
       "13    37.0\n",
       "14    37.0\n",
       "15     4.0\n",
       "16     4.0\n",
       "17     4.0\n",
       "18     4.0\n",
       "19    18.0\n",
       "dtype: float64"
      ]
     },
     "execution_count": 137,
     "metadata": {},
     "output_type": "execute_result"
    }
   ],
   "source": [
    "data.rolling(window=4).min().fillna(method='backfill')"
   ]
  },
  {
   "cell_type": "markdown",
   "metadata": {},
   "source": [
    "zajrzec do pandas, rolling, to co pokazał"
   ]
  },
  {
   "cell_type": "code",
   "execution_count": null,
   "metadata": {},
   "outputs": [],
   "source": [
    "kolos -> z tych zagadnien co byly, kwestia generowania cech, itd, to co na labkach, polaczyc zagadnienia ktore byly,\n",
    "a nie byly lacane na zajeciach, srednia wartosc jkiegos sygnalu, szeregu czasowego, zadanie ze policzyc autokorelacje \n",
    "syngalu originalnego i innego, widmo sygnalu po usrednieniu z funckjami wbudowanymi___ do okien i ten operator tigera keisera"
   ]
  }
 ],
 "metadata": {
  "kernelspec": {
   "display_name": "Python 3",
   "language": "python",
   "name": "python3"
  },
  "language_info": {
   "codemirror_mode": {
    "name": "ipython",
    "version": 3
   },
   "file_extension": ".py",
   "mimetype": "text/x-python",
   "name": "python",
   "nbconvert_exporter": "python",
   "pygments_lexer": "ipython3",
   "version": "3.8.3"
  }
 },
 "nbformat": 4,
 "nbformat_minor": 4
}
