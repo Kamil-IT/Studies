{
 "cells": [
  {
   "cell_type": "code",
   "execution_count": 1,
   "metadata": {},
   "outputs": [],
   "source": [
    "import numpy as np\n",
    "import matplotlib.pyplot as plt"
   ]
  },
  {
   "cell_type": "code",
   "execution_count": 1,
   "metadata": {},
   "outputs": [
    {
     "data": {
      "text/plain": "[[1, 2], [3, 4]]"
     },
     "execution_count": 1,
     "metadata": {},
     "output_type": "execute_result"
    }
   ],
   "source": [
    "A = [[1,2], [3,4]]\n",
    "A"
   ]
  },
  {
   "cell_type": "code",
   "execution_count": 3,
   "metadata": {},
   "outputs": [
    {
     "ename": "TypeError",
     "evalue": "can only concatenate list (not \"int\") to list",
     "output_type": "error",
     "traceback": [
      "\u001B[1;31m---------------------------------------------------------------------------\u001B[0m",
      "\u001B[1;31mTypeError\u001B[0m                                 Traceback (most recent call last)",
      "\u001B[1;32m<ipython-input-3-ee7a9ccee3cf>\u001B[0m in \u001B[0;36m<module>\u001B[1;34m\u001B[0m\n\u001B[1;32m----> 1\u001B[1;33m \u001B[0mA\u001B[0m \u001B[1;33m+\u001B[0m \u001B[1;36m1\u001B[0m\u001B[1;33m\u001B[0m\u001B[1;33m\u001B[0m\u001B[0m\n\u001B[0m",
      "\u001B[1;31mTypeError\u001B[0m: can only concatenate list (not \"int\") to list"
     ]
    }
   ],
   "source": [
    "A + 1"
   ]
  },
  {
   "cell_type": "code",
   "execution_count": 4,
   "metadata": {},
   "outputs": [
    {
     "data": {
      "text/plain": [
       "array([[1, 2],\n",
       "       [3, 4]])"
      ]
     },
     "execution_count": 4,
     "metadata": {},
     "output_type": "execute_result"
    }
   ],
   "source": [
    "A = np.array([[1,2], [3,4]])\n",
    "A"
   ]
  },
  {
   "cell_type": "code",
   "execution_count": 2,
   "metadata": {},
   "outputs": [
    {
     "ename": "TypeError",
     "evalue": "can only concatenate list (not \"int\") to list",
     "output_type": "error",
     "traceback": [
      "\u001B[0;31m---------------------------------------------------------------------------\u001B[0m",
      "\u001B[0;31mTypeError\u001B[0m                                 Traceback (most recent call last)",
      "\u001B[0;32m<ipython-input-2-214c3562498e>\u001B[0m in \u001B[0;36m<module>\u001B[0;34m\u001B[0m\n\u001B[0;32m----> 1\u001B[0;31m \u001B[0mA\u001B[0m\u001B[0;34m+\u001B[0m\u001B[0;36m1\u001B[0m\u001B[0;34m\u001B[0m\u001B[0;34m\u001B[0m\u001B[0m\n\u001B[0m\u001B[1;32m      2\u001B[0m \u001B[0;34m\u001B[0m\u001B[0m\n",
      "\u001B[0;31mTypeError\u001B[0m: can only concatenate list (not \"int\") to list"
     ]
    }
   ],
   "source": [
    "A+1"
   ]
  },
  {
   "cell_type": "code",
   "execution_count": 6,
   "metadata": {},
   "outputs": [
    {
     "data": {
      "text/plain": [
       "-2.0000000000000004"
      ]
     },
     "execution_count": 6,
     "metadata": {},
     "output_type": "execute_result"
    }
   ],
   "source": [
    "np.linalg.det(A)"
   ]
  },
  {
   "cell_type": "code",
   "execution_count": 7,
   "metadata": {},
   "outputs": [
    {
     "data": {
      "text/plain": [
       "array([[-2. ,  1. ],\n",
       "       [ 1.5, -0.5]])"
      ]
     },
     "execution_count": 7,
     "metadata": {},
     "output_type": "execute_result"
    }
   ],
   "source": [
    "np.linalg.inv(A)"
   ]
  },
  {
   "cell_type": "code",
   "execution_count": 8,
   "metadata": {},
   "outputs": [
    {
     "data": {
      "text/plain": [
       "array([[ 1,  2, -1],\n",
       "       [ 2,  3,  4],\n",
       "       [-1,  4,  2]])"
      ]
     },
     "execution_count": 8,
     "metadata": {},
     "output_type": "execute_result"
    }
   ],
   "source": [
    "A = np.array([[1,2,-1], [2,3, 4], [-1, 4, 2]])\n",
    "A"
   ]
  },
  {
   "cell_type": "code",
   "execution_count": 9,
   "metadata": {},
   "outputs": [
    {
     "data": {
      "text/plain": [
       "(3, 3)"
      ]
     },
     "execution_count": 9,
     "metadata": {},
     "output_type": "execute_result"
    }
   ],
   "source": [
    "A.shape"
   ]
  },
  {
   "cell_type": "code",
   "execution_count": 10,
   "metadata": {},
   "outputs": [
    {
     "data": {
      "text/plain": [
       "(3,)"
      ]
     },
     "execution_count": 10,
     "metadata": {},
     "output_type": "execute_result"
    }
   ],
   "source": [
    "x = np.array([1,-1,2])\n",
    "x.shape"
   ]
  },
  {
   "cell_type": "code",
   "execution_count": 11,
   "metadata": {},
   "outputs": [
    {
     "data": {
      "text/plain": [
       "array([-3,  7, -1])"
      ]
     },
     "execution_count": 11,
     "metadata": {},
     "output_type": "execute_result"
    }
   ],
   "source": [
    "np.dot(A,x)"
   ]
  },
  {
   "cell_type": "markdown",
   "metadata": {},
   "source": [
    "$$ \\mathbf{A} \\mathbf{x}$$"
   ]
  },
  {
   "cell_type": "code",
   "execution_count": 12,
   "metadata": {},
   "outputs": [
    {
     "data": {
      "text/plain": [
       "array([-3,  7, -1])"
      ]
     },
     "execution_count": 12,
     "metadata": {},
     "output_type": "execute_result"
    }
   ],
   "source": [
    "A @ x"
   ]
  },
  {
   "cell_type": "markdown",
   "metadata": {},
   "source": [
    "__forma kwadratowa__  $$ \\mathbf{x}^T \\mathbf{A} \\mathbf{x}$$"
   ]
  },
  {
   "cell_type": "code",
   "execution_count": 13,
   "metadata": {},
   "outputs": [
    {
     "data": {
      "text/plain": [
       "-12"
      ]
     },
     "execution_count": 13,
     "metadata": {},
     "output_type": "execute_result"
    }
   ],
   "source": [
    "x.T @ A @ x"
   ]
  },
  {
   "cell_type": "code",
   "execution_count": 14,
   "metadata": {},
   "outputs": [
    {
     "data": {
      "text/plain": [
       "array([[0., 0., 0., 0.],\n",
       "       [0., 0., 0., 0.],\n",
       "       [0., 0., 0., 0.],\n",
       "       [0., 0., 0., 0.]])"
      ]
     },
     "execution_count": 14,
     "metadata": {},
     "output_type": "execute_result"
    }
   ],
   "source": [
    "x = np.zeros((4,4))\n",
    "x"
   ]
  },
  {
   "cell_type": "code",
   "execution_count": 15,
   "metadata": {},
   "outputs": [
    {
     "data": {
      "text/plain": [
       "array([0., 1., 2., 3., 4., 5., 6.])"
      ]
     },
     "execution_count": 15,
     "metadata": {},
     "output_type": "execute_result"
    }
   ],
   "source": [
    "x = np.linspace(start=0, stop = 6, num=7)\n",
    "x"
   ]
  },
  {
   "cell_type": "code",
   "execution_count": 16,
   "metadata": {},
   "outputs": [
    {
     "data": {
      "text/plain": [
       "array([0, 1, 2, 3, 4, 5])"
      ]
     },
     "execution_count": 16,
     "metadata": {},
     "output_type": "execute_result"
    }
   ],
   "source": [
    "x = np.arange(start=0, stop = 6, step=1)\n",
    "x"
   ]
  },
  {
   "cell_type": "markdown",
   "metadata": {},
   "source": [
    "### Ogarniamy mnożenie wektora przez macierz, tj. operację $ \\mathbf{A} \\mathbf{x}$ wyobraźnią wzrokową."
   ]
  },
  {
   "cell_type": "markdown",
   "metadata": {},
   "source": [
    "Samym kodem na razie się nie stresuj, wystarczy, że umiesz zinterpretować obrazek dla różnych wpisanych macierzy A."
   ]
  },
  {
   "cell_type": "code",
   "execution_count": 19,
   "metadata": {},
   "outputs": [
    {
     "name": "stdout",
     "output_type": "stream",
     "text": [
      "Macierz A:\n",
      " [[ 2.    0.1 ]\n",
      " [-1.   -0.05]]\n",
      "Wektory własne:\n",
      " [[ 0.89442719 -0.4472136 ]\n",
      " [-0.04993762  0.99875234]]\n",
      "Wartości własne:\n",
      " [1.9500000e+00 6.9388939e-18]\n",
      "det(A) = 0.0\n"
     ]
    },
    {
     "data": {
      "image/png": "[encoded data removed]",
      "text/plain": [
       "<Figure size 1152x576 with 2 Axes>"
      ]
     },
     "metadata": {
      "needs_background": "light"
     },
     "output_type": "display_data"
    }
   ],
   "source": [
    "##############################\n",
    "zakres_osi = 3\n",
    "\n",
    "# macierz\n",
    "#A = [[2, 1], [0, 2]]\n",
    "#A = [[1, -2.5], [1, 1.5]]\n",
    "#A = [[2, 0.5], [0, 1.5]]\n",
    "A = [[2,0.1], [-1, -0.05]]\n",
    "##############################\n",
    "\n",
    "A = np.array(A)\n",
    "print('Macierz A:\\n', A)\n",
    "\n",
    "def rysuj_wektor(ax, pocz=[0,0], grot=[0,0], kolor='black'):\n",
    "    pocz = np.array(pocz)\n",
    "    grot = np.array(grot)\n",
    "    ax.quiver(*pocz, *(grot-pocz), units='xy' ,scale=1, color=kolor, alpha=0.9)\n",
    "\n",
    "def generuj_okrag_jednostkowy(N):\n",
    "    t = np.arange(start=0, stop=2*np.pi, step=2*np.pi/N)\n",
    "    return np.array([[x, y] for (x,y) in zip(np.cos(t), np.sin(t))])\n",
    "\n",
    "def generuj_kwadrat():\n",
    "    return np.array([[-1,-1], [-1, 1], [1, 1], [1, -1], [-1,-1]])\n",
    "\n",
    "    \n",
    "fig, ax = plt.subplots(nrows=1, ncols=2, figsize=(16,8))\n",
    "\n",
    "O = generuj_okrag_jednostkowy(30)\n",
    "for wektor in O:\n",
    "    rysuj_wektor(ax=ax[0], grot=wektor, kolor='black')\n",
    "\n",
    "for wektor in O:\n",
    "    rysuj_wektor(ax=ax[0], pocz=wektor, grot=A @ wektor, kolor='tab:orange')\n",
    "\n",
    "lam, wekt_wl = np.linalg.eig(A)\n",
    "\n",
    "print('Wektory własne:\\n', wekt_wl.T)\n",
    "print('Wartości własne:\\n', lam)\n",
    "print('det(A) =', np.linalg.det(A))\n",
    "\n",
    "for l, w in zip(lam,wekt_wl.T):\n",
    "    if w.dtype == 'float64':\n",
    "        rysuj_wektor(ax=ax[0], grot=l*w, kolor='darkgreen')\n",
    "\n",
    "K = generuj_kwadrat()\n",
    "ax[1].plot(K[:,0], K[:,1], color=(0.4,0.4,0.4), linewidth=4)\n",
    "A_K = np.array([A @ wektor for wektor in K])\n",
    "ax[1].plot(A_K[:,0], A_K[:,1], color='tab:orange', linewidth=4)\n",
    "\n",
    "ax[0].grid()\n",
    "ax[0].set_aspect('equal')\n",
    "ax[1].grid()\n",
    "ax[1].set_aspect('equal')\n",
    "\n",
    "ax[0].set_xlim(-zakres_osi, zakres_osi)\n",
    "ax[0].set_ylim(-zakres_osi, zakres_osi)\n",
    "zakres_osi *= 1.5\n",
    "ax[1].set_xlim(-zakres_osi, zakres_osi)\n",
    "ax[1].set_ylim(-zakres_osi, zakres_osi)\n",
    "plt.show()\n"
   ]
  },
  {
   "cell_type": "markdown",
   "metadata": {},
   "source": [
    "___Wiesz już, koniu, co to wyznacznik?___  $$ \\det{A} $$"
   ]
  },
  {
   "cell_type": "code",
   "execution_count": null,
   "metadata": {},
   "outputs": [],
   "source": []
  }
 ],
 "metadata": {
  "kernelspec": {
   "name": "pycharm-3b691159",
   "language": "python",
   "display_name": "PyCharm (Studies)"
  },
  "language_info": {
   "codemirror_mode": {
    "name": "ipython",
    "version": 3
   },
   "file_extension": ".py",
   "mimetype": "text/x-python",
   "name": "python",
   "nbconvert_exporter": "python",
   "pygments_lexer": "ipython3",
   "version": "3.8.5"
  }
 },
 "nbformat": 4,
 "nbformat_minor": 4
}