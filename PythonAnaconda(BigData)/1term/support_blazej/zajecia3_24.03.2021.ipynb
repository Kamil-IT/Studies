{
 "cells": [
  {
   "cell_type": "code",
   "execution_count": null,
   "metadata": {},
   "outputs": [],
   "source": [
    "import numpy as np\n",
    "import matplotlib.pyplot as plt\n",
    "import scipy.fftpack as fft\n",
    "from scipy import interpolate\n",
    "import cvxpy as cvx\n",
    "\n",
    "n = 5000\n",
    "t = np.linspace(0, 1/8, n)\n",
    "y = np.sin(100 * np.pi * t) + np.sin(333 * np.pi * t)\n",
    "\n",
    "# x_samples = np.linspace(-1, 1, Nsamples)\n",
    "# y_samples = R(x_samples)\n",
    "\n",
    "plt.figure(figsize=(10,15))\n",
    "plt.subplot(411)\n",
    "plt.plot(t,y)\n",
    "\n",
    "# Akwizycja danych \n",
    "m = 500 # - 10% probek\n",
    "pr = np.random.choice(n, m, replace=False) # Losowanie próbek\n",
    "pr.sort() # sortowanie do wyswietlania\n",
    "t2 = t[pr]\n",
    "b = y[pr]\n",
    "\n",
    "plt.subplot(412)\n",
    "plt.plot(t2,b)\n",
    "plt.plot(t2,b, 'r*')\n",
    "\n",
    "A = fft.idct(np.identity(n), norm='ortho', axis=0)\n",
    "A = A[pr]\n",
    "\n",
    "vx = cvx.Variable(n)\n",
    "objective = cvx.Minimize(cvx.norm(vx, 2))\n",
    "constraints = [A*vx == b]\n",
    "prob = cvx.Problem(objective, constraints)\n",
    "result = prob.solve(verbose=True)\n",
    "\n",
    "x = np.array(vx.value)\n",
    "x = np.squeeze(x)\n",
    "f = fft.idct(x, norm='ortho', axis=0)\n",
    "\n",
    "plt.subplot(413)\n",
    "plt.plot(f)\n",
    "\n",
    "plt.subplot(414)\n",
    "error = (y-f)**2\n",
    "average_error = sum(error)/len(error)\n",
    "\n",
    "plt.plot(t, error)\n",
    "\n"
   ]
  }
 ],
 "metadata": {
  "kernelspec": {
   "display_name": "Python 3",
   "language": "python",
   "name": "python3"
  },
  "language_info": {
   "codemirror_mode": {
    "name": "ipython",
    "version": 3
   },
   "file_extension": ".py",
   "mimetype": "text/x-python",
   "name": "python",
   "nbconvert_exporter": "python",
   "pygments_lexer": "ipython3",
   "version": "3.8.5"
  }
 },
 "nbformat": 4,
 "nbformat_minor": 4
}
