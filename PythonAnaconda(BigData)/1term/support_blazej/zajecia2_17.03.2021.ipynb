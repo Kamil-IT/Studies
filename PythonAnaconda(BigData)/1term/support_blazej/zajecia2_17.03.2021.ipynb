{
 "cells": [
  {
   "cell_type": "code",
   "execution_count": 33,
   "metadata": {},
   "outputs": [
    {
     "name": "stdout",
     "output_type": "stream",
     "text": [
      "Optimization terminated successfully.\n",
      "         Current function value: 1.606183\n",
      "         Iterations: 57\n",
      "         Function evaluations: 106\n",
      "Optimization terminated successfully.\n",
      "         Current function value: 0.262391\n",
      "         Iterations: 52\n",
      "         Function evaluations: 99\n",
      "Optimization terminated successfully.\n",
      "         Current function value: 15.000000\n",
      "         Iterations: 10\n",
      "         Function evaluations: 39\n",
      "Optimization terminated successfully.\n",
      "         Current function value: 15.000000\n",
      "         Iterations: 10\n",
      "         Function evaluations: 39\n",
      "Optimization terminated successfully.\n",
      "         Current function value: 0.512242\n",
      "         Iterations: 52\n",
      "         Function evaluations: 99\n",
      "Optimization terminated successfully.\n",
      "         Current function value: 16.517319\n",
      "         Iterations: 62\n",
      "         Function evaluations: 116\n",
      "Optimization terminated successfully.\n",
      "         Current function value: 105.028114\n",
      "         Iterations: 53\n",
      "         Function evaluations: 100\n",
      "Optimization terminated successfully.\n",
      "         Current function value: 15.000000\n",
      "         Iterations: 10\n",
      "         Function evaluations: 39\n",
      "Optimization terminated successfully.\n",
      "         Current function value: 15.000000\n",
      "         Iterations: 10\n",
      "         Function evaluations: 39\n",
      "Optimization terminated successfully.\n",
      "         Current function value: 0.512242\n",
      "         Iterations: 52\n",
      "         Function evaluations: 99\n"
     ]
    },
    {
     "data": {
      "text/plain": [
       "(-5.0, 16.0)"
      ]
     },
     "execution_count": 33,
     "metadata": {},
     "output_type": "execute_result"
    },
    {
     "data": {
      "image/png": "[encoded data removed]",
      "text/plain": [
       "<Figure size 432x288 with 2 Axes>"
      ]
     },
     "metadata": {
      "needs_background": "light"
     },
     "output_type": "display_data"
    }
   ],
   "source": [
    "import numpy as np\n",
    "import matplotlib.pyplot as plt\n",
    "import scipy.optimize as opt\n",
    "from numpy.linalg import norm\n",
    "\n",
    "x = np.sort(np.random.uniform(0,10,15))\n",
    "y = 3 + 0.25 * x + 0.1 * np.random.randn(len(x))\n",
    "yy = 3 + 0.25 *x\n",
    "\n",
    "def l1_fit(x0,x,y):\n",
    "    return np.sum(np.abs(x0[0] * x + x0[1] - y))\n",
    "\n",
    "def l2_fit(x0,x,y):\n",
    "    return np.sum(np.power(x0[0] * x + x0[1] - y,2))\n",
    "\n",
    "def l0_fit(x0,x,y):\n",
    "    return np.sum((np.abs(x0[0] * x + x0[1] - y)) > 0)\n",
    "\n",
    "def l0_fit_norm(x0,x,y):\n",
    "    return np.linalg.norm((x0[0] * x + x0[1] - y), ord=0)\n",
    "\n",
    "def l2_fit_norm(x0,x,y):\n",
    "    return np.linalg.norm((x0[0] * x + x0[1] - y), ord=None)#cos nie dziala\n",
    "\n",
    "xopt1 = opt.fmin(func=l1_fit, x0=[1,1], args = (x,y))\n",
    "xopt2 = opt.fmin(func=l2_fit, x0=[1,1], args = (x,y))\n",
    "xopt0 = opt.fmin(func=l0_fit, x0=[1,1], args = (x,y))\n",
    "xopt0norm = opt.fmin(func=l0_fit_norm, x0=[1,1], args = (x,y))\n",
    "xopt2norm = opt.fmin(func=l2_fit_norm, x0=[1,1], args = (x,y))\n",
    "\n",
    "y_est1 = xopt1[1] + xopt1[0] * x\n",
    "y_est2 = xopt2[1] + xopt2[0] * x\n",
    "y_est0 = xopt0[1] + xopt0[0] * x\n",
    "y_est0norm = xopt0norm[1] + xopt0norm[0] * x\n",
    "y_est2norm = xopt2norm[1] + xopt2norm[0] * x\n",
    "\n",
    "plt.subplot(211)\n",
    "plt.plot(x,y,'*')\n",
    "plt.plot(x,yy, 'k-', label = 'oryginal')\n",
    "plt.plot(x,y_est1,'g-', label = 'l1 norm')\n",
    "plt.plot(x,y_est2,'r-', label = 'l2 norm')\n",
    "plt.plot(x,y_est0,'b-', label = 'l0 norm')\n",
    "plt.plot(x,y_est0norm,'p-', label = 'l0 norm norm')\n",
    "plt.plot(x,y_est2norm,'y-', label = 'l2 norm norm')\n",
    "plt.legend()\n",
    "\n",
    "y2 = y.copy()\n",
    "y2[3] +=10\n",
    "y2[13]-=5\n",
    "\n",
    "xopt11 = opt.fmin(func=l1_fit, x0=[1,1], args = (x,y2))\n",
    "xopt22 = opt.fmin(func=l2_fit, x0=[1,1], args = (x,y2))\n",
    "xopt00 = opt.fmin(func=l0_fit, x0=[1,1], args = (x,y2))\n",
    "xopt00norm = opt.fmin(func=l0_fit_norm, x0=[1,1], args = (x,y))\n",
    "xopt22norm = opt.fmin(func=l2_fit_norm, x0=[1,1], args = (x,y))\n",
    "\n",
    "y_est11 = xopt11[1] + xopt11[0] * x\n",
    "y_est22 = xopt22[1] + xopt22[0] * x\n",
    "y_est00 = xopt00[1] + xopt00[0] * x\n",
    "y_est00norm = xopt00norm[1] + xopt00norm[0] * x\n",
    "y_est22norm = xopt22norm[1] + xopt22norm[0] * x\n",
    "\n",
    "plt.subplot(212)\n",
    "plt.plot(x,y2,'*')\n",
    "plt.plot(x,yy,'k', label = 'oryginal')\n",
    "plt.plot(x,y_est11,'g--', label = 'l1 norm')\n",
    "plt.plot(x,y_est22,'r--', label = 'l2 norm')\n",
    "plt.plot(x,y_est00,'b--', label = 'l0 norm')\n",
    "plt.plot(x,y_est00norm,'p--', label = 'l0 norm_norm')\n",
    "plt.plot(x,y_est22norm,'y--', label = 'l0 norm_norm')\n",
    "plt.ylim([-5,16])\n",
    "# plt.legend()"
   ]
  },
  {
   "cell_type": "markdown",
   "metadata": {},
   "source": [
    "## Widac ze l1 sobie lepiej dziala przy danych odstajacych od l2"
   ]
  },
  {
   "cell_type": "code",
   "execution_count": 44,
   "metadata": {},
   "outputs": [
    {
     "name": "stdout",
     "output_type": "stream",
     "text": [
      "Optimization terminated successfully.\n",
      "         Current function value: 1.068404\n",
      "         Iterations: 52\n",
      "         Function evaluations: 96\n",
      "Optimization terminated successfully.\n",
      "         Current function value: 0.095697\n",
      "         Iterations: 49\n",
      "         Function evaluations: 93\n",
      "Optimization terminated successfully.\n",
      "         Current function value: 15.000000\n",
      "         Iterations: 10\n",
      "         Function evaluations: 39\n",
      "Optimization terminated successfully.\n",
      "         Current function value: 15.000000\n",
      "         Iterations: 10\n",
      "         Function evaluations: 39\n",
      "Optimization terminated successfully.\n",
      "         Current function value: 0.309350\n",
      "         Iterations: 49\n",
      "         Function evaluations: 93\n",
      "Optimization terminated successfully.\n",
      "         Current function value: 15.892199\n",
      "         Iterations: 55\n",
      "         Function evaluations: 105\n",
      "Optimization terminated successfully.\n",
      "         Current function value: 106.970823\n",
      "         Iterations: 52\n",
      "         Function evaluations: 97\n",
      "Optimization terminated successfully.\n",
      "         Current function value: 15.000000\n",
      "         Iterations: 10\n",
      "         Function evaluations: 39\n",
      "Optimization terminated successfully.\n",
      "         Current function value: 15.000000\n",
      "         Iterations: 10\n",
      "         Function evaluations: 39\n",
      "Optimization terminated successfully.\n",
      "         Current function value: 0.309350\n",
      "         Iterations: 49\n",
      "         Function evaluations: 93\n"
     ]
    },
    {
     "data": {
      "text/plain": [
       "(-5.0, 16.0)"
      ]
     },
     "execution_count": 44,
     "metadata": {},
     "output_type": "execute_result"
    },
    {
     "data": {
      "image/png": "[encoded data removed]",
      "text/plain": [
       "<Figure size 432x288 with 2 Axes>"
      ]
     },
     "metadata": {
      "needs_background": "light"
     },
     "output_type": "display_data"
    }
   ],
   "source": [
    "import numpy as np\n",
    "import matplotlib.pyplot as plt\n",
    "import scipy.optimize as opt\n",
    "from numpy.linalg import norm\n",
    "\n",
    "x = np.sort(np.random.uniform(0,10,15))\n",
    "y = 3 + 0.25 * x + 0.1 * np.random.randn(len(x))\n",
    "yy = 3 + 0.25 *x\n",
    "\n",
    "def l1_fit(x0,x,y):\n",
    "    return np.sum(np.abs(x0[0] * x + x0[1] - y))\n",
    "\n",
    "def l2_fit(x0,x,y):\n",
    "    return np.sum(np.power(x0[0] * x + x0[1] - y,2))\n",
    "\n",
    "def l0_fit(x0,x,y):\n",
    "    return np.sum((np.abs(x0[0] * x + x0[1] - y)) > 0)\n",
    "\n",
    "def l0_fit_norm(x0,x,y):\n",
    "    return np.linalg.norm((x0[0] * x + x0[1] - y), ord=0)\n",
    "\n",
    "def l2_fit_norm(x0,x,y):\n",
    "    return np.linalg.norm((x0[0] * x + x0[1] - y), ord=None)#cos nie dziala\n",
    "\n",
    "xopt1 = opt.fmin(func=l1_fit, x0=[1,1], args = (x,y))\n",
    "xopt2 = opt.fmin(func=l2_fit, x0=[1,1], args = (x,y))\n",
    "xopt0 = opt.fmin(func=l0_fit, x0=[1,1], args = (x,y))\n",
    "xopt0norm = opt.fmin(func=l0_fit_norm, x0=[1,1], args = (x,y))\n",
    "xopt2norm = opt.fmin(func=l2_fit_norm, x0=[1,1], args = (x,y))\n",
    "\n",
    "y_est1 = xopt1[1] + xopt1[0] * x\n",
    "y_est2 = xopt2[1] + xopt2[0] * x\n",
    "y_est0 = xopt0[1] + xopt0[0] * x\n",
    "y_est0norm = xopt0norm[1] + xopt0norm[0] * x\n",
    "y_est2norm = xopt2norm[1] + xopt2norm[0] * x\n",
    "y_diff = abs(y_est2 - yy)\n",
    "\n",
    "plt.subplot(211)\n",
    "plt.plot(x,y,'*')\n",
    "plt.plot(x,yy, 'k-', label = 'oryginal')\n",
    "# plt.plot(x,y_est1,'g-', label = 'l1 norm')\n",
    "plt.plot(x,y_est2,'r-', label = 'l2 norm')\n",
    "# plt.plot(x,y_est0,'b-', label = 'l0 norm')\n",
    "# plt.plot(x,y_est0norm,'p-', label = 'l0 norm norm')\n",
    "# plt.plot(x,y_est2norm,'y-', label = 'l2 norm norm')\n",
    "plt.plot(x,y_diff,'r-', label = 'difference')\n",
    "plt.legend()\n",
    "\n",
    "y2 = y.copy()\n",
    "y2[3] +=10\n",
    "y2[13]-=5\n",
    "\n",
    "xopt11 = opt.fmin(func=l1_fit, x0=[1,1], args = (x,y2))\n",
    "xopt22 = opt.fmin(func=l2_fit, x0=[1,1], args = (x,y2))\n",
    "xopt00 = opt.fmin(func=l0_fit, x0=[1,1], args = (x,y2))\n",
    "xopt00norm = opt.fmin(func=l0_fit_norm, x0=[1,1], args = (x,y))\n",
    "xopt22norm = opt.fmin(func=l2_fit_norm, x0=[1,1], args = (x,y))\n",
    "\n",
    "y_est11 = xopt11[1] + xopt11[0] * x\n",
    "y_est22 = xopt22[1] + xopt22[0] * x\n",
    "y_est00 = xopt00[1] + xopt00[0] * x\n",
    "y_est00norm = xopt00norm[1] + xopt00norm[0] * x\n",
    "y_est22norm = xopt22norm[1] + xopt22norm[0] * x\n",
    "y_diff2 = abs(y_est22 - yy)\n",
    "\n",
    "plt.subplot(212)\n",
    "plt.plot(x,y2,'*')\n",
    "plt.plot(x,yy,'k', label = 'oryginal')\n",
    "# plt.plot(x,y_est11,'g--', label = 'l1 norm')\n",
    "plt.plot(x,y_est22,'r--', label = 'l2 norm')\n",
    "# plt.plot(x,y_est00,'b--', label = 'l0 norm')\n",
    "# plt.plot(x,y_est00norm,'p--', label = 'l0 norm_norm')\n",
    "# plt.plot(x,y_est22norm,'y--', label = 'l0 norm_norm')\n",
    "plt.plot(x,y_diff2,'r--', label = 'difference')\n",
    "plt.ylim([-5,16])"
   ]
  },
  {
   "cell_type": "code",
   "execution_count": null,
   "metadata": {},
   "outputs": [],
   "source": []
  },
  {
   "cell_type": "code",
   "execution_count": null,
   "metadata": {},
   "outputs": [],
   "source": []
  },
  {
   "cell_type": "code",
   "execution_count": null,
   "metadata": {},
   "outputs": [],
   "source": []
  },
  {
   "cell_type": "code",
   "execution_count": null,
   "metadata": {},
   "outputs": [],
   "source": []
  },
  {
   "cell_type": "code",
   "execution_count": null,
   "metadata": {},
   "outputs": [],
   "source": []
  },
  {
   "cell_type": "code",
   "execution_count": null,
   "metadata": {},
   "outputs": [],
   "source": []
  },
  {
   "cell_type": "code",
   "execution_count": null,
   "metadata": {},
   "outputs": [],
   "source": []
  },
  {
   "cell_type": "code",
   "execution_count": null,
   "metadata": {},
   "outputs": [],
   "source": []
  },
  {
   "cell_type": "code",
   "execution_count": null,
   "metadata": {},
   "outputs": [],
   "source": []
  },
  {
   "cell_type": "code",
   "execution_count": null,
   "metadata": {},
   "outputs": [],
   "source": []
  },
  {
   "cell_type": "code",
   "execution_count": null,
   "metadata": {},
   "outputs": [],
   "source": []
  },
  {
   "cell_type": "code",
   "execution_count": null,
   "metadata": {},
   "outputs": [],
   "source": []
  },
  {
   "cell_type": "code",
   "execution_count": null,
   "metadata": {},
   "outputs": [],
   "source": []
  },
  {
   "cell_type": "code",
   "execution_count": null,
   "metadata": {},
   "outputs": [],
   "source": []
  }
 ],
 "metadata": {
  "kernelspec": {
   "display_name": "Python 3",
   "language": "python",
   "name": "python3"
  },
  "language_info": {
   "codemirror_mode": {
    "name": "ipython",
    "version": 3
   },
   "file_extension": ".py",
   "mimetype": "text/x-python",
   "name": "python",
   "nbconvert_exporter": "python",
   "pygments_lexer": "ipython3",
   "version": "3.8.5"
  }
 },
 "nbformat": 4,
 "nbformat_minor": 4
}
